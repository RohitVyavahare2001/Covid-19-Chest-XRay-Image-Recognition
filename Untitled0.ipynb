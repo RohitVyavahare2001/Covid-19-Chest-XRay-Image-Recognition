{
  "nbformat": 4,
  "nbformat_minor": 0,
  "metadata": {
    "colab": {
      "provenance": []
    },
    "kernelspec": {
      "name": "python3",
      "display_name": "Python 3"
    },
    "language_info": {
      "name": "python"
    }
  },
  "cells": [
    {
      "cell_type": "code",
      "execution_count": null,
      "metadata": {
        "id": "ojOCdcPuXs61"
      },
      "outputs": [],
      "source": [
        "import cv2 as cv\n",
        "import numpy as np\n",
        "import pickle\n",
        "import os\n",
        "import matplotlib.pyplot as plt\n",
        "import seaborn as sns\n",
        "import tensorflow as tf"
      ]
    },
    {
      "cell_type": "code",
      "source": [
        "img=cv.imread(\"/kaggle/input/covid19-image-dataset/Covid19-dataset/test/Covid/auntminnie-2020_01_31_20_24_2322_2020_01_31_x-ray_coronavirus_US.jpg\")\n",
        "img=cv.resize(img,[255,255])\n",
        "print(img.shape)\n",
        "plt.imshow(img)\n",
        "plt.axis('off')\n",
        "plt.show()"
      ],
      "metadata": {
        "id": "-A6M-f9rX1Av"
      },
      "execution_count": null,
      "outputs": []
    },
    {
      "cell_type": "code",
      "source": [
        "img=cv.imread(\"/kaggle/input/covid19-image-dataset/Covid19-dataset/train/Normal/01.jpeg\")\n",
        "img=cv.resize(img,[255,255])\n",
        "print(img.shape)\n",
        "plt.imshow(img)\n",
        "plt.axis('off')\n",
        "plt.show()"
      ],
      "metadata": {
        "id": "ZvPrBtGgX1C4"
      },
      "execution_count": null,
      "outputs": []
    },
    {
      "cell_type": "code",
      "source": [
        "img=cv.imread(\"/kaggle/input/covid19-image-dataset/Covid19-dataset/train/Viral Pneumonia/01.jpeg\")\n",
        "img=cv.resize(img,[255,255])\n",
        "print(img.shape)\n",
        "plt.imshow(img)\n",
        "plt.axis('off')\n",
        "plt.show()"
      ],
      "metadata": {
        "id": "-PRT5jmcX1FN"
      },
      "execution_count": null,
      "outputs": []
    },
    {
      "cell_type": "code",
      "source": [
        "Covidlist=os.listdir(\"/kaggle/input/covid19-image-dataset/Covid19-dataset/train/Covid\")\n",
        "Normal=os.listdir(\"/kaggle/input/covid19-image-dataset/Covid19-dataset/train/Normal\")\n",
        "Viral_Pneumonia=os.listdir(\"/kaggle/input/covid19-image-dataset/Covid19-dataset/train/Viral Pneumonia\")"
      ],
      "metadata": {
        "id": "v4RsTsWFX1Hk"
      },
      "execution_count": null,
      "outputs": []
    },
    {
      "cell_type": "code",
      "source": [
        "x=list()\n",
        "y=list()\n",
        "for i in  Covidlist:\n",
        "    img=cv.imread(\"/kaggle/input/covid19-image-dataset/Covid19-dataset/train/Covid/\"+i)\n",
        "    img=cv.resize(img,[256,256])\n",
        "    img = cv.cvtColor(img, cv.COLOR_BGR2GRAY)\n",
        "    x.append(img)\n",
        "    y.append(2)\n",
        "print(\"completed\")"
      ],
      "metadata": {
        "id": "6bQ7clWIX1Jw"
      },
      "execution_count": null,
      "outputs": []
    },
    {
      "cell_type": "code",
      "source": [
        "for i in Viral_Pneumonia:\n",
        "    img=cv.imread(\"/kaggle/input/covid19-image-dataset/Covid19-dataset/train/Viral Pneumonia/\"+i)\n",
        "    img=cv.resize(img,[256,256])\n",
        "    img = cv.cvtColor(img, cv.COLOR_BGR2GRAY)\n",
        "    x.append(img)\n",
        "    y.append(1)\n",
        "print(\"completed\")\n",
        "for i in Normal:\n",
        "    img=cv.imread(\"/kaggle/input/covid19-image-dataset/Covid19-dataset/train/Normal/\"+i)\n",
        "    img=cv.resize(img,[256,256])\n",
        "    img = cv.cvtColor(img, cv.COLOR_BGR2GRAY)\n",
        "    x.append(img)\n",
        "    y.append(0)\n",
        "print(\"completed\")"
      ],
      "metadata": {
        "id": "v5jh_oyQX1MS"
      },
      "execution_count": null,
      "outputs": []
    },
    {
      "cell_type": "code",
      "source": [
        "x=np.array(x)\n",
        "y=np.array(y)"
      ],
      "metadata": {
        "id": "p5H7Dw_LX1Oc"
      },
      "execution_count": null,
      "outputs": []
    },
    {
      "cell_type": "code",
      "source": [
        "from sklearn.model_selection import train_test_split\n",
        "x_train,x_test,y_train,y_test=train_test_split(x,y,stratify=y,random_state=5,test_size=0.2)"
      ],
      "metadata": {
        "id": "4WzS0c7NX1RF"
      },
      "execution_count": null,
      "outputs": []
    },
    {
      "cell_type": "code",
      "source": [
        "y_train = tf.keras.utils.to_categorical(y_train)\n",
        "y_test=tf.keras.utils.to_categorical(y_test)"
      ],
      "metadata": {
        "id": "diZzevJ7X1TW"
      },
      "execution_count": null,
      "outputs": []
    },
    {
      "cell_type": "code",
      "source": [
        "from tensorflow import keras\n",
        "from tensorflow.keras import layers\n",
        "from tensorflow.keras.callbacks import EarlyStopping\n"
      ],
      "metadata": {
        "id": "NveDcn9eX1W9"
      },
      "execution_count": null,
      "outputs": []
    },
    {
      "cell_type": "code",
      "source": [
        "model = keras.Sequential([\n",
        "    layers.Conv2D(16, (3, 3), activation='relu', input_shape=(256, 256,1)),\n",
        "    layers.MaxPooling2D((2, 2)),\n",
        "    layers.Conv2D(32, (3, 3), activation='relu',),\n",
        "    layers.MaxPooling2D((2, 2)),\n",
        "    layers.Conv2D(64, (3, 3), activation='leaky_relu'),\n",
        "    layers.MaxPooling2D((2, 2)),\n",
        "    layers.Conv2D(128, (3, 3), activation='leaky_relu'),\n",
        "    layers.MaxPooling2D((2, 2)),\n",
        "    layers.Conv2D(256, (3, 3), activation='leaky_relu'),\n",
        "    layers.MaxPooling2D((2, 2)),\n",
        "    layers.Flatten(),\n",
        "    layers.Dense(256, activation='relu'),\n",
        "    layers.Dropout(0.5),\n",
        "    layers.Dense(3, activation='softmax')\n",
        "])\n"
      ],
      "metadata": {
        "id": "5CuKra_w2w4h"
      },
      "execution_count": null,
      "outputs": []
    },
    {
      "cell_type": "code",
      "source": [
        "model.compile(optimizer=\"adam\",\n",
        "              loss='categorical_crossentropy',\n",
        "              metrics=['accuracy'])\n",
        "\n",
        "# Print the model summary\n",
        "model.summary()"
      ],
      "metadata": {
        "id": "G6Ws0Wwd2w66"
      },
      "execution_count": null,
      "outputs": []
    },
    {
      "cell_type": "code",
      "source": [
        "testnormal=os.listdir(\"/kaggle/input/covid19-image-dataset/Covid19-dataset/test/Normal\")\n",
        "testViral_Pneumonia=os.listdir(\"/kaggle/input/covid19-image-dataset/Covid19-dataset/test/Viral Pneumonia\")\n",
        "Covid=os.listdir(\"/kaggle/input/covid19-image-dataset/Covid19-dataset/test/Covid\")"
      ],
      "metadata": {
        "id": "_8MZeXA62w9C"
      },
      "execution_count": null,
      "outputs": []
    },
    {
      "cell_type": "code",
      "source": [
        "x1=list()\n",
        "y1=list()\n",
        "for i in  testnormal:\n",
        "    img=cv.imread(\"/kaggle/input/covid19-image-dataset/Covid19-dataset/test/Normal/\"+i)\n",
        "    img=cv.resize(img,[256,256])\n",
        "    img = cv.cvtColor(img, cv.COLOR_BGR2GRAY)\n",
        "    x1.append(img)\n",
        "    y1.append(0)\n",
        "for i in  testViral_Pneumonia:\n",
        "    img=cv.imread(\"/kaggle/input/covid19-image-dataset/Covid19-dataset/test/Viral Pneumonia/\"+i)\n",
        "    img=cv.resize(img,[256,256])\n",
        "    img = cv.cvtColor(img, cv.COLOR_BGR2GRAY)\n",
        "    x1.append(img)\n",
        "    y1.append(1)\n",
        "for i in  Covid:\n",
        "    img=cv.imread(\"/kaggle/input/covid19-image-dataset/Covid19-dataset/test/Covid/\"+i)\n",
        "    img=cv.resize(img,[256,256])\n",
        "    img = cv.cvtColor(img, cv.COLOR_BGR2GRAY)\n",
        "    x1.append(img)\n",
        "    y1.append(2)\n",
        "x1=np.array(x1)\n",
        "y1=np.array(y1)"
      ],
      "metadata": {
        "id": "2uvIK0qt2w_Q"
      },
      "execution_count": null,
      "outputs": []
    },
    {
      "cell_type": "code",
      "source": [
        "y1 = tf.keras.utils.to_categorical(y1)\n"
      ],
      "metadata": {
        "id": "0znhAR5r2xBg"
      },
      "execution_count": null,
      "outputs": []
    },
    {
      "cell_type": "code",
      "source": [
        "#accuracy\n",
        "model.evaluate(x1,y1)"
      ],
      "metadata": {
        "id": "IsPcDkn12xDs"
      },
      "execution_count": null,
      "outputs": []
    },
    {
      "cell_type": "code",
      "source": [
        "img=cv.imread(\"/kaggle/input/covid19-image-dataset/Covid19-dataset/test/Covid/auntminnie-2020_01_31_20_24_2322_2020_01_31_x-ray_coronavirus_US.jpg\")\n",
        "img=cv.resize(img,[255,255])\n",
        "img = cv.cvtColor(img, cv.COLOR_BGR2GRAY)\n",
        "p1=img.reshape(1,255,255)\n",
        "print(img.shape)\n",
        "plt.imshow(img)\n",
        "plt.axis('off')\n",
        "plt.show()\n",
        "arrayforouput=model.predict(p1)\n",
        "classa=arrayforouput.argmax()\n",
        "if(classa==0):\n",
        "    print(\"Normal\")\n",
        "elif(classa==1):\n",
        "    print(\"viral neumonia\")\n",
        "else:\n",
        "    print(\"Covid\")"
      ],
      "metadata": {
        "id": "XdJM3BqI2xF0"
      },
      "execution_count": null,
      "outputs": []
    }
  ]
}